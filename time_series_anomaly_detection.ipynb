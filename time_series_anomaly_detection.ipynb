{
 "cells": [
  {
   "cell_type": "markdown",
   "id": "d828a2f8",
   "metadata": {},
   "source": [
    "<div style='background-color : orange'>\n",
    "<a id='TableOfContents'></a>\n",
    "    <b><u><i><h1 style='text-align : center'>\n",
    "        Table of Contents\n",
    "    </h1></i></u></b>\n",
    "<li><a href='#imports'>Imports</a></li>\n",
    "<li><a href='#wrangle'>Wrangle</a></li>\n",
    "<li><a href='#req'>Required Portion</a></li>\n",
    "<li><a href='#bonus'>Bonus Portion</a></li>"
   ]
  },
  {
   "cell_type": "markdown",
   "id": "2b0a2348",
   "metadata": {},
   "source": [
    "<div style='background-color : orange'>\n",
    "<a id='imports'></a>\n",
    "    <b><u><i><h1 style='text-align : center'>\n",
    "        Imports\n",
    "    </h1></i></u></b>\n",
    "<li><a href='#TableOfContents'>Table of Contents</a></li>"
   ]
  },
  {
   "cell_type": "code",
   "execution_count": 1,
   "id": "e9d1131b",
   "metadata": {},
   "outputs": [],
   "source": [
    "# Vectorization and dataframing\n",
    "import numpy as np\n",
    "import pandas as pd\n",
    "\n",
    "# Visualizations\n",
    "import matplotlib.pyplot as plt\n",
    "import matplotlib as mpl\n",
    "import seaborn as sns\n",
    "\n",
    "# Ignore Warnings\n",
    "import warnings\n",
    "warnings.filterwarnings('ignore')\n",
    "\n",
    "# .py files\n",
    "import wrangle as w"
   ]
  },
  {
   "cell_type": "code",
   "execution_count": 2,
   "id": "fb1cdc27",
   "metadata": {},
   "outputs": [],
   "source": [
    "# Set default plt style to 'bmh'\n",
    "mpl.style.use('bmh')"
   ]
  },
  {
   "cell_type": "markdown",
   "id": "09a57f87",
   "metadata": {},
   "source": [
    "<div style='background-color : orange'>\n",
    "<a id='wrangle'></a>\n",
    "    <b><u><i><h1 style='text-align : center'>\n",
    "        Wrangle\n",
    "    </h1></i></u></b>\n",
    "<li><a href='#TableOfContents'>Table of Contents</a></li>"
   ]
  },
  {
   "cell_type": "markdown",
   "id": "a1aee998",
   "metadata": {},
   "source": [
    "<b><h3 style='text-align : center'>\n",
    "    WRANGLE DAT SHIT :D\n",
    "</h1></b>"
   ]
  },
  {
   "cell_type": "markdown",
   "id": "9eca2a13",
   "metadata": {},
   "source": [
    "The dataset for these exercises lives in the Codeup Data Science MySQL Server. The database name is curriculum_logs."
   ]
  },
  {
   "cell_type": "code",
   "execution_count": null,
   "id": "ed6aa26e",
   "metadata": {},
   "outputs": [],
   "source": []
  },
  {
   "cell_type": "markdown",
   "id": "5cdb5022",
   "metadata": {},
   "source": [
    "<div style='background-color : orange'>\n",
    "<a id='req'></a>\n",
    "    <b><u><i><h1 style='text-align : center'>\n",
    "        Required Portion\n",
    "    </h1></i></u></b>\n",
    "<li><a href='#TableOfContents'>Table of Contents</a></li>"
   ]
  },
  {
   "cell_type": "markdown",
   "id": "588786b8",
   "metadata": {},
   "source": [
    "Go through the lesson commenting code, adding docstrings, and adding markdown to support what is happening."
   ]
  },
  {
   "cell_type": "code",
   "execution_count": null,
   "id": "b07f639c",
   "metadata": {},
   "outputs": [],
   "source": []
  },
  {
   "cell_type": "markdown",
   "id": "3810f905",
   "metadata": {},
   "source": [
    "<div style='background-color : orange'>\n",
    "<a id='bonus'></a>\n",
    "    <b><u><i><h1 style='text-align : center'>\n",
    "        Bonus Portion\n",
    "    </h1></i></u></b>\n",
    "<li><a href='#TableOfContents'>Table of Contents</a></li>\n",
    "    <li><a href='#bonusa'>Bonus-a</a></li>\n",
    "    <li><a href='#bonusb'>Bonus-b</a></li>\n",
    "    <li><a href='#bonusc'>Bonus-c</a></li>\n",
    "    <li><a href='#bonusd'>Bonus-d</a></li>"
   ]
  },
  {
   "cell_type": "markdown",
   "id": "f9ed3001",
   "metadata": {},
   "source": [
    "<a id='bonusa'></a>\n",
    "<b>Bonus-a:</b> Discover users who are accessing our curriculum pages way beyond the end of their codeup time. What would the dataframe look like? Use time series method for detecting anomalies, like exponential moving average with %b.\n",
    "\n",
    "<li><a href='#TableOfContents'>Table of Contents</a></li>\n",
    "<li><a href='#bonus'>Bonus Portion Top</a></li>"
   ]
  },
  {
   "cell_type": "code",
   "execution_count": null,
   "id": "1b1cea72",
   "metadata": {},
   "outputs": [],
   "source": []
  },
  {
   "cell_type": "markdown",
   "id": "713c942f",
   "metadata": {},
   "source": [
    "<a id='bonusb'></a>\n",
    "<b>Bonus-b:</b> Can you label students who are viewing both the web dev and data science curriculum?\n",
    "\n",
    "<li><a href='#TableOfContents'>Table of Contents</a></li>\n",
    "<li><a href='#bonus'>Bonus Portion Top</a></li>"
   ]
  },
  {
   "cell_type": "code",
   "execution_count": null,
   "id": "564a0213",
   "metadata": {},
   "outputs": [],
   "source": []
  },
  {
   "cell_type": "markdown",
   "id": "51f6aa3e",
   "metadata": {},
   "source": [
    "<a id='bonusc'></a>\n",
    "<b>Bonus-c:</b> Can you label students by the program they are in? \n",
    "\n",
    "<li><a href='#TableOfContents'>Table of Contents</a></li>\n",
    "<li><a href='#bonus'>Bonus Portion Top</a></li>"
   ]
  },
  {
   "cell_type": "code",
   "execution_count": null,
   "id": "0f40368b",
   "metadata": {},
   "outputs": [],
   "source": []
  },
  {
   "cell_type": "markdown",
   "id": "4ada8ca9",
   "metadata": {},
   "source": [
    "<a id='bonusd'></a>\n",
    "<b>Bonus-d:</b> Can you label users by student vs. staff?\n",
    "\n",
    "<li><a href='#TableOfContents'>Table of Contents</a></li>\n",
    "<li><a href='#bonus'>Bonus Portion Top</a></li>"
   ]
  },
  {
   "cell_type": "code",
   "execution_count": null,
   "id": "3739b976",
   "metadata": {},
   "outputs": [],
   "source": []
  }
 ],
 "metadata": {
  "kernelspec": {
   "display_name": "Python 3 (ipykernel)",
   "language": "python",
   "name": "python3"
  },
  "language_info": {
   "codemirror_mode": {
    "name": "ipython",
    "version": 3
   },
   "file_extension": ".py",
   "mimetype": "text/x-python",
   "name": "python",
   "nbconvert_exporter": "python",
   "pygments_lexer": "ipython3",
   "version": "3.9.13"
  }
 },
 "nbformat": 4,
 "nbformat_minor": 5
}
