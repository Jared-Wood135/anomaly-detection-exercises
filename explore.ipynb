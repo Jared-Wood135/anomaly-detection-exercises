{
 "cells": [
  {
   "cell_type": "markdown",
   "id": "b18d5703",
   "metadata": {},
   "source": [
    "<div style='background-color: orange'>\n",
    "<a id='TableOfContents'></a>\n",
    "    <b><u><i><h1 style='text-align: center'>\n",
    "        Table of Contents\n",
    "    </h1></i></u></b>\n",
    "<li><a href='#imports'>Imports</a></li>\n",
    "<li><a href='#questions'>Questions To Answer</a></li>\n",
    "<li><a href='#wrangle'>Wrangle Data</a></li>\n",
    "<li><a href='#q1'>Question 1</a></li>\n",
    "<li><a href='#q2'>Question 2</a></li>\n",
    "<li><a href='#q3'>Question 3</a></li>\n",
    "<li><a href='#q4'>Question 4</a></li>\n",
    "<li><a href='#q5'>Question 5</a></li>\n",
    "<li><a href='#q6'>Question 6</a></li>\n",
    "<li><a href='#q7'>Question 7</a></li>\n",
    "<li><a href='#q8'>Question 8</a></li>\n",
    "<li><a href='#misc'>Miscellaneous</a></li>"
   ]
  },
  {
   "cell_type": "markdown",
   "id": "08673bbb",
   "metadata": {},
   "source": [
    "<div style='background-color: orange'>\n",
    "<a id='imports'></a>\n",
    "    <b><u><i><h1 style='text-align: center'>\n",
    "        Imports\n",
    "    </h1></i></u></b>\n",
    "    <li><a href='#TableOfContents'>Table of Contents</a></li>"
   ]
  },
  {
   "cell_type": "code",
   "execution_count": 1,
   "id": "e810c5cd",
   "metadata": {},
   "outputs": [],
   "source": [
    "# Vectorization & Dataframe\n",
    "import numpy as np\n",
    "import pandas as pd\n",
    "\n",
    "# Visualizations\n",
    "import matplotlib.pyplot as plt\n",
    "import seaborn as sns\n",
    "\n",
    "# stats\n",
    "from scipy import stats\n",
    "\n",
    "# Glorious itertools\n",
    "import itertools\n",
    "\n",
    "# .py files\n",
    "import wrangle as w"
   ]
  },
  {
   "cell_type": "markdown",
   "id": "10db513b",
   "metadata": {},
   "source": [
    "<div style='background-color: orange'>\n",
    "<a id='questions'></a>\n",
    "    <b><u><i><h1 style='text-align: center'>\n",
    "        Questions To Answer\n",
    "    </h1></i></u></b>\n",
    "    <li><a href='#TableOfContents'>Table of Contents</a></li>"
   ]
  },
  {
   "cell_type": "markdown",
   "id": "2f3101f5",
   "metadata": {},
   "source": [
    "1. Which lesson appears to attract the most traffic consistently across cohorts (per program)?\n",
    "    - <b>ANSWER:</b>\n",
    "\n",
    "---\n",
    "\n",
    "2. Is there a cohort that referred to a lesson significantly more than other cohorts seemed to gloss over?\n",
    "    - <b>ANSWER:</b>\n",
    "\n",
    "---\n",
    "\n",
    "3. Are there students who, when active, hardly access the curriculum? If so, what information do you have about these students?\n",
    "    - <b>ANSWER:</b>\n",
    "\n",
    "---\n",
    "\n",
    "4. Is there any suspicious activity, such as users/machines/etc accessing the curriculum who shouldn’t be? Does it appear that any web-scraping is happening? Are there any suspicious IP addresses?\n",
    "    - <b>ANSWER:</b>\n",
    "\n",
    "---\n",
    "\n",
    "5. At some point in 2019, the ability for students and alumni to access both curriculums (web dev to ds, ds to web dev) should have been shut off. Do you see any evidence of that happening? Did it happen before?\n",
    "    - <b>ANSWER:</b>\n",
    "\n",
    "---\n",
    "\n",
    "6. What topics are grads continuing to reference after graduation and into their jobs (for each program)?\n",
    "    - <b>ANSWER:</b>\n",
    "\n",
    "---\n",
    "\n",
    "7. Which lessons are least accessed?\n",
    "    - <b>ANSWER:</b>\n",
    "\n",
    "---\n",
    "\n",
    "8. Anything else I should be aware of?\n",
    "    - <b>ANSWER:</b>"
   ]
  },
  {
   "cell_type": "markdown",
   "id": "e7239442",
   "metadata": {},
   "source": [
    "<div style='background-color: orange'>\n",
    "<a id='wrangle'></a>\n",
    "    <b><u><i><h1 style='text-align: center'>\n",
    "        Wrangle Data\n",
    "    </h1></i></u></b>\n",
    "    <li><a href='#TableOfContents'>Table of Contents</a></li>"
   ]
  },
  {
   "cell_type": "code",
   "execution_count": 2,
   "id": "0081149f",
   "metadata": {},
   "outputs": [
    {
     "data": {
      "text/html": [
       "<div>\n",
       "<style scoped>\n",
       "    .dataframe tbody tr th:only-of-type {\n",
       "        vertical-align: middle;\n",
       "    }\n",
       "\n",
       "    .dataframe tbody tr th {\n",
       "        vertical-align: top;\n",
       "    }\n",
       "\n",
       "    .dataframe thead th {\n",
       "        text-align: right;\n",
       "    }\n",
       "</style>\n",
       "<table border=\"1\" class=\"dataframe\">\n",
       "  <thead>\n",
       "    <tr style=\"text-align: right;\">\n",
       "      <th></th>\n",
       "      <th>path</th>\n",
       "      <th>path_subject</th>\n",
       "      <th>path_lesson</th>\n",
       "      <th>ip</th>\n",
       "      <th>program_name</th>\n",
       "      <th>program_id</th>\n",
       "      <th>cohort_name</th>\n",
       "      <th>cohort_id</th>\n",
       "      <th>user_id</th>\n",
       "      <th>cohort_start_date</th>\n",
       "      <th>cohort_end_date</th>\n",
       "    </tr>\n",
       "    <tr>\n",
       "      <th>entry_datetime</th>\n",
       "      <th></th>\n",
       "      <th></th>\n",
       "      <th></th>\n",
       "      <th></th>\n",
       "      <th></th>\n",
       "      <th></th>\n",
       "      <th></th>\n",
       "      <th></th>\n",
       "      <th></th>\n",
       "      <th></th>\n",
       "      <th></th>\n",
       "    </tr>\n",
       "  </thead>\n",
       "  <tbody>\n",
       "    <tr>\n",
       "      <th>2019-10-17 16:41:05</th>\n",
       "      <td>html-css/css-ii/bootstrap-grid-system</td>\n",
       "      <td>html-css</td>\n",
       "      <td>css-ii</td>\n",
       "      <td>97.105.19.58</td>\n",
       "      <td>Web Development</td>\n",
       "      <td>1.0</td>\n",
       "      <td>Deimos</td>\n",
       "      <td>51.0</td>\n",
       "      <td>502</td>\n",
       "      <td>2019-09-16</td>\n",
       "      <td>2020-02-27</td>\n",
       "    </tr>\n",
       "  </tbody>\n",
       "</table>\n",
       "</div>"
      ],
      "text/plain": [
       "                                                      path path_subject  \\\n",
       "entry_datetime                                                            \n",
       "2019-10-17 16:41:05  html-css/css-ii/bootstrap-grid-system     html-css   \n",
       "\n",
       "                    path_lesson            ip     program_name  program_id  \\\n",
       "entry_datetime                                                               \n",
       "2019-10-17 16:41:05      css-ii  97.105.19.58  Web Development         1.0   \n",
       "\n",
       "                    cohort_name  cohort_id  user_id cohort_start_date  \\\n",
       "entry_datetime                                                          \n",
       "2019-10-17 16:41:05      Deimos       51.0      502        2019-09-16   \n",
       "\n",
       "                    cohort_end_date  \n",
       "entry_datetime                       \n",
       "2019-10-17 16:41:05      2020-02-27  "
      ]
     },
     "execution_count": 2,
     "metadata": {},
     "output_type": "execute_result"
    }
   ],
   "source": [
    "# From the 'wrangle.py' file...\n",
    "# Acquire and prepare the curriculum logs dataframe\n",
    "curr_logs = w.wrangle_curriculum_logs()\n",
    "curr_logs.sample()"
   ]
  },
  {
   "cell_type": "markdown",
   "id": "bac78138",
   "metadata": {},
   "source": [
    "<div style='background-color: orange'>\n",
    "<a id='q1'></a>\n",
    "    <b><u><i><h1 style='text-align: center'>\n",
    "        Question 1\n",
    "    </h1></i></u></b>\n",
    "    <li><a href='#TableOfContents'>Table of Contents</a></li>"
   ]
  },
  {
   "cell_type": "markdown",
   "id": "26ddda47",
   "metadata": {},
   "source": [
    "<b><i>QUESTION 1:</i></b> Which lesson appears to attract the most traffic consistently across cohorts (per program)?\n",
    "\n",
    "<b><i>ANSWER:</i></b> The introduction lesson is most consistent across all cohorts and has the most frequency from the html-css root."
   ]
  },
  {
   "cell_type": "markdown",
   "id": "01721895",
   "metadata": {},
   "source": [
    "---"
   ]
  },
  {
   "cell_type": "code",
   "execution_count": 145,
   "id": "98bd155c",
   "metadata": {},
   "outputs": [
    {
     "data": {
      "text/html": [
       "<div>\n",
       "<style scoped>\n",
       "    .dataframe tbody tr th:only-of-type {\n",
       "        vertical-align: middle;\n",
       "    }\n",
       "\n",
       "    .dataframe tbody tr th {\n",
       "        vertical-align: top;\n",
       "    }\n",
       "\n",
       "    .dataframe thead th {\n",
       "        text-align: right;\n",
       "    }\n",
       "</style>\n",
       "<table border=\"1\" class=\"dataframe\">\n",
       "  <thead>\n",
       "    <tr style=\"text-align: right;\">\n",
       "      <th></th>\n",
       "      <th></th>\n",
       "      <th></th>\n",
       "      <th>end_path</th>\n",
       "    </tr>\n",
       "    <tr>\n",
       "      <th>name</th>\n",
       "      <th>name</th>\n",
       "      <th>end_path</th>\n",
       "      <th></th>\n",
       "    </tr>\n",
       "  </thead>\n",
       "  <tbody>\n",
       "    <tr>\n",
       "      <th>Andromeda</th>\n",
       "      <th>Andromeda</th>\n",
       "      <th>introduction</th>\n",
       "      <td>0.032913</td>\n",
       "    </tr>\n",
       "    <tr>\n",
       "      <th>Apex</th>\n",
       "      <th>Apex</th>\n",
       "      <th>search_index.json</th>\n",
       "      <td>0.046459</td>\n",
       "    </tr>\n",
       "    <tr>\n",
       "      <th>Apollo</th>\n",
       "      <th>Apollo</th>\n",
       "      <th>html-css</th>\n",
       "      <td>0.500000</td>\n",
       "    </tr>\n",
       "    <tr>\n",
       "      <th>Arches</th>\n",
       "      <th>Arches</th>\n",
       "      <th>javascript-i</th>\n",
       "      <td>0.035576</td>\n",
       "    </tr>\n",
       "    <tr>\n",
       "      <th>Badlands</th>\n",
       "      <th>Badlands</th>\n",
       "      <th>command-line</th>\n",
       "      <td>0.078947</td>\n",
       "    </tr>\n",
       "    <tr>\n",
       "      <th>Bash</th>\n",
       "      <th>Bash</th>\n",
       "      <th>introduction</th>\n",
       "      <td>0.039372</td>\n",
       "    </tr>\n",
       "    <tr>\n",
       "      <th>Bayes</th>\n",
       "      <th>Bayes</th>\n",
       "      <th>1-overview</th>\n",
       "      <td>0.074315</td>\n",
       "    </tr>\n",
       "    <tr>\n",
       "      <th>Betelgeuse</th>\n",
       "      <th>Betelgeuse</th>\n",
       "      <th>introduction</th>\n",
       "      <td>0.030457</td>\n",
       "    </tr>\n",
       "    <tr>\n",
       "      <th>Ceres</th>\n",
       "      <th>Ceres</th>\n",
       "      <th>introduction</th>\n",
       "      <td>0.037234</td>\n",
       "    </tr>\n",
       "    <tr>\n",
       "      <th>Curie</th>\n",
       "      <th>Curie</th>\n",
       "      <th>1-overview</th>\n",
       "      <td>0.079165</td>\n",
       "    </tr>\n",
       "    <tr>\n",
       "      <th>Darden</th>\n",
       "      <th>Darden</th>\n",
       "      <th>overview</th>\n",
       "      <td>0.087997</td>\n",
       "    </tr>\n",
       "    <tr>\n",
       "      <th>Deimos</th>\n",
       "      <th>Deimos</th>\n",
       "      <th>introduction</th>\n",
       "      <td>0.030553</td>\n",
       "    </tr>\n",
       "    <tr>\n",
       "      <th>Denali</th>\n",
       "      <th>Denali</th>\n",
       "      <th>databases</th>\n",
       "      <td>0.333333</td>\n",
       "    </tr>\n",
       "    <tr>\n",
       "      <th>Easley</th>\n",
       "      <th>Easley</th>\n",
       "      <th>overview</th>\n",
       "      <td>0.078971</td>\n",
       "    </tr>\n",
       "    <tr>\n",
       "      <th>Europa</th>\n",
       "      <th>Europa</th>\n",
       "      <th>toc</th>\n",
       "      <td>0.036054</td>\n",
       "    </tr>\n",
       "    <tr>\n",
       "      <th>Florence</th>\n",
       "      <th>Florence</th>\n",
       "      <th>modern-data-scientist.jpg</th>\n",
       "      <td>0.088243</td>\n",
       "    </tr>\n",
       "    <tr>\n",
       "      <th>Fortuna</th>\n",
       "      <th>Fortuna</th>\n",
       "      <th>toc</th>\n",
       "      <td>0.037087</td>\n",
       "    </tr>\n",
       "    <tr>\n",
       "      <th>Franklin</th>\n",
       "      <th>Franklin</th>\n",
       "      <th>es6</th>\n",
       "      <td>0.147059</td>\n",
       "    </tr>\n",
       "    <tr>\n",
       "      <th>Ganymede</th>\n",
       "      <th>Ganymede</th>\n",
       "      <th>search_index.json</th>\n",
       "      <td>0.034094</td>\n",
       "    </tr>\n",
       "    <tr>\n",
       "      <th>Glacier</th>\n",
       "      <th>Glacier</th>\n",
       "      <th>favicon.ico</th>\n",
       "      <td>0.104205</td>\n",
       "    </tr>\n",
       "    <tr>\n",
       "      <th>Hampton</th>\n",
       "      <th>Hampton</th>\n",
       "      <th>java-iii</th>\n",
       "      <td>0.037949</td>\n",
       "    </tr>\n",
       "    <tr>\n",
       "      <th>Hyperion</th>\n",
       "      <th>Hyperion</th>\n",
       "      <th>toc</th>\n",
       "      <td>0.035872</td>\n",
       "    </tr>\n",
       "    <tr>\n",
       "      <th>Ike</th>\n",
       "      <th>Ike</th>\n",
       "      <th>html-css</th>\n",
       "      <td>0.089744</td>\n",
       "    </tr>\n",
       "    <tr>\n",
       "      <th>Joshua</th>\n",
       "      <th>Joshua</th>\n",
       "      <th>html-css</th>\n",
       "      <td>0.081633</td>\n",
       "    </tr>\n",
       "    <tr>\n",
       "      <th>Jupiter</th>\n",
       "      <th>Jupiter</th>\n",
       "      <th>toc</th>\n",
       "      <td>0.052693</td>\n",
       "    </tr>\n",
       "    <tr>\n",
       "      <th>Kalypso</th>\n",
       "      <th>Kalypso</th>\n",
       "      <th>introduction</th>\n",
       "      <td>0.032656</td>\n",
       "    </tr>\n",
       "    <tr>\n",
       "      <th>Kings</th>\n",
       "      <th>Kings</th>\n",
       "      <th>favicon.ico</th>\n",
       "      <td>0.184311</td>\n",
       "    </tr>\n",
       "    <tr>\n",
       "      <th>Lassen</th>\n",
       "      <th>Lassen</th>\n",
       "      <th>index.html</th>\n",
       "      <td>0.092792</td>\n",
       "    </tr>\n",
       "    <tr>\n",
       "      <th>Luna</th>\n",
       "      <th>Luna</th>\n",
       "      <th>introduction</th>\n",
       "      <td>0.043392</td>\n",
       "    </tr>\n",
       "    <tr>\n",
       "      <th>Mammoth</th>\n",
       "      <th>Mammoth</th>\n",
       "      <th>favicon.ico</th>\n",
       "      <td>0.074468</td>\n",
       "    </tr>\n",
       "    <tr>\n",
       "      <th>Marco</th>\n",
       "      <th>Marco</th>\n",
       "      <th>toc</th>\n",
       "      <td>0.057969</td>\n",
       "    </tr>\n",
       "    <tr>\n",
       "      <th>Neptune</th>\n",
       "      <th>Neptune</th>\n",
       "      <th>toc</th>\n",
       "      <td>0.066285</td>\n",
       "    </tr>\n",
       "    <tr>\n",
       "      <th>Niagara</th>\n",
       "      <th>Niagara</th>\n",
       "      <th>spring</th>\n",
       "      <td>0.090529</td>\n",
       "    </tr>\n",
       "    <tr>\n",
       "      <th>Oberon</th>\n",
       "      <th>Oberon</th>\n",
       "      <th>operators</th>\n",
       "      <td>0.116158</td>\n",
       "    </tr>\n",
       "    <tr>\n",
       "      <th>Olympic</th>\n",
       "      <th>Olympic</th>\n",
       "      <th>favicon.ico</th>\n",
       "      <td>0.056961</td>\n",
       "    </tr>\n",
       "    <tr>\n",
       "      <th>Pinnacles</th>\n",
       "      <th>Pinnacles</th>\n",
       "      <th>javascript-i</th>\n",
       "      <td>0.034345</td>\n",
       "    </tr>\n",
       "    <tr>\n",
       "      <th>Quincy</th>\n",
       "      <th>Quincy</th>\n",
       "      <th>favicon.ico</th>\n",
       "      <td>0.084715</td>\n",
       "    </tr>\n",
       "    <tr>\n",
       "      <th>Sequoia</th>\n",
       "      <th>Sequoia</th>\n",
       "      <th>spring</th>\n",
       "      <td>0.053566</td>\n",
       "    </tr>\n",
       "    <tr>\n",
       "      <th>Staff</th>\n",
       "      <th>Staff</th>\n",
       "      <th>javascript-i</th>\n",
       "      <td>0.023388</td>\n",
       "    </tr>\n",
       "    <tr>\n",
       "      <th>Teddy</th>\n",
       "      <th>Teddy</th>\n",
       "      <th>spring</th>\n",
       "      <td>0.025844</td>\n",
       "    </tr>\n",
       "    <tr>\n",
       "      <th>Ulysses</th>\n",
       "      <th>Ulysses</th>\n",
       "      <th>introduction</th>\n",
       "      <td>0.034805</td>\n",
       "    </tr>\n",
       "    <tr>\n",
       "      <th>Voyageurs</th>\n",
       "      <th>Voyageurs</th>\n",
       "      <th>introduction</th>\n",
       "      <td>0.030983</td>\n",
       "    </tr>\n",
       "    <tr>\n",
       "      <th>Wrangell</th>\n",
       "      <th>Wrangell</th>\n",
       "      <th>toc</th>\n",
       "      <td>0.040525</td>\n",
       "    </tr>\n",
       "    <tr>\n",
       "      <th>Xanadu</th>\n",
       "      <th>Xanadu</th>\n",
       "      <th>introduction</th>\n",
       "      <td>0.033364</td>\n",
       "    </tr>\n",
       "    <tr>\n",
       "      <th>Yosemite</th>\n",
       "      <th>Yosemite</th>\n",
       "      <th>toc</th>\n",
       "      <td>0.035270</td>\n",
       "    </tr>\n",
       "    <tr>\n",
       "      <th>Zion</th>\n",
       "      <th>Zion</th>\n",
       "      <th>toc</th>\n",
       "      <td>0.040360</td>\n",
       "    </tr>\n",
       "  </tbody>\n",
       "</table>\n",
       "</div>"
      ],
      "text/plain": [
       "                                                 end_path\n",
       "name       name       end_path                           \n",
       "Andromeda  Andromeda  introduction               0.032913\n",
       "Apex       Apex       search_index.json          0.046459\n",
       "Apollo     Apollo     html-css                   0.500000\n",
       "Arches     Arches     javascript-i               0.035576\n",
       "Badlands   Badlands   command-line               0.078947\n",
       "Bash       Bash       introduction               0.039372\n",
       "Bayes      Bayes      1-overview                 0.074315\n",
       "Betelgeuse Betelgeuse introduction               0.030457\n",
       "Ceres      Ceres      introduction               0.037234\n",
       "Curie      Curie      1-overview                 0.079165\n",
       "Darden     Darden     overview                   0.087997\n",
       "Deimos     Deimos     introduction               0.030553\n",
       "Denali     Denali     databases                  0.333333\n",
       "Easley     Easley     overview                   0.078971\n",
       "Europa     Europa     toc                        0.036054\n",
       "Florence   Florence   modern-data-scientist.jpg  0.088243\n",
       "Fortuna    Fortuna    toc                        0.037087\n",
       "Franklin   Franklin   es6                        0.147059\n",
       "Ganymede   Ganymede   search_index.json          0.034094\n",
       "Glacier    Glacier    favicon.ico                0.104205\n",
       "Hampton    Hampton    java-iii                   0.037949\n",
       "Hyperion   Hyperion   toc                        0.035872\n",
       "Ike        Ike        html-css                   0.089744\n",
       "Joshua     Joshua     html-css                   0.081633\n",
       "Jupiter    Jupiter    toc                        0.052693\n",
       "Kalypso    Kalypso    introduction               0.032656\n",
       "Kings      Kings      favicon.ico                0.184311\n",
       "Lassen     Lassen     index.html                 0.092792\n",
       "Luna       Luna       introduction               0.043392\n",
       "Mammoth    Mammoth    favicon.ico                0.074468\n",
       "Marco      Marco      toc                        0.057969\n",
       "Neptune    Neptune    toc                        0.066285\n",
       "Niagara    Niagara    spring                     0.090529\n",
       "Oberon     Oberon     operators                  0.116158\n",
       "Olympic    Olympic    favicon.ico                0.056961\n",
       "Pinnacles  Pinnacles  javascript-i               0.034345\n",
       "Quincy     Quincy     favicon.ico                0.084715\n",
       "Sequoia    Sequoia    spring                     0.053566\n",
       "Staff      Staff      javascript-i               0.023388\n",
       "Teddy      Teddy      spring                     0.025844\n",
       "Ulysses    Ulysses    introduction               0.034805\n",
       "Voyageurs  Voyageurs  introduction               0.030983\n",
       "Wrangell   Wrangell   toc                        0.040525\n",
       "Xanadu     Xanadu     introduction               0.033364\n",
       "Yosemite   Yosemite   toc                        0.035270\n",
       "Zion       Zion       toc                        0.040360"
      ]
     },
     "execution_count": 145,
     "metadata": {},
     "output_type": "execute_result"
    }
   ],
   "source": [
    "# Most viewed 'end_path' per cohort\n",
    "pd.DataFrame(curr_logs[curr_logs.end_path != ''].groupby(by='name').end_path.value_counts(normalize=True).groupby(level=0).nlargest(1))"
   ]
  },
  {
   "cell_type": "code",
   "execution_count": 150,
   "id": "36c93099",
   "metadata": {},
   "outputs": [
    {
     "data": {
      "text/plain": [
       "html-css        8165\n",
       "mysql           5082\n",
       "jquery          4408\n",
       "javascript-i    3434\n",
       "java-iii         502\n",
       "introduction      63\n",
       "css-i              2\n",
       "mvc                2\n",
       "Name: root_path, dtype: int64"
      ]
     },
     "execution_count": 150,
     "metadata": {},
     "output_type": "execute_result"
    }
   ],
   "source": [
    "# Count of 'root_paths' for 'introduction'\n",
    "curr_logs[curr_logs.end_path == 'introduction'].root_path.value_counts()"
   ]
  },
  {
   "cell_type": "code",
   "execution_count": 146,
   "id": "6852fe6c",
   "metadata": {},
   "outputs": [
    {
     "data": {
      "text/plain": [
       "                              0.055889\n",
       "introduction                  0.024058\n",
       "search_index.json             0.023805\n",
       "javascript-i                  0.021087\n",
       "toc                           0.020325\n",
       "                                ...   \n",
       "threads                       0.000001\n",
       "coding_best_practices         0.000001\n",
       "interview-questions           0.000001\n",
       "interview                     0.000001\n",
       "post-interview-review-form    0.000001\n",
       "Name: end_path, Length: 1509, dtype: float64"
      ]
     },
     "execution_count": 146,
     "metadata": {},
     "output_type": "execute_result"
    }
   ],
   "source": [
    "# Count of 'end_path' frequency\n",
    "curr_logs.end_path.value_counts(normalize=True)"
   ]
  },
  {
   "cell_type": "code",
   "execution_count": 156,
   "id": "2af012fe",
   "metadata": {},
   "outputs": [
    {
     "data": {
      "text/plain": [
       "name        name        path                                    \n",
       "Andromeda   Andromeda   toc                                          638\n",
       "Apex        Apex        search/search_index.json                    1497\n",
       "Apollo      Apollo      content/html-css                               2\n",
       "Arches      Arches      javascript-i                                 294\n",
       "Badlands    Badlands    content/php_ii/command-line                    6\n",
       "Bash        Bash        search/search_index.json                     660\n",
       "Bayes       Bayes       1-fundamentals/modern-data-scientist.jpg     650\n",
       "Betelgeuse  Betelgeuse  search/search_index.json                     761\n",
       "Ceres       Ceres       search/search_index.json                    1380\n",
       "Curie       Curie       6-regression/1-overview                      595\n",
       "Darden      Darden      classification/overview                     1109\n",
       "Deimos      Deimos      javascript-i                                 896\n",
       "Denali      Denali      mkdocs/search_index.json                       1\n",
       "Easley      Easley      classification/scale_features_or_not.svg     463\n",
       "Europa      Europa      toc                                          964\n",
       "Florence    Florence    fundamentals/modern-data-scientist.jpg       627\n",
       "Fortuna     Fortuna     toc                                         1293\n",
       "Franklin    Franklin    javascript-ii/es6                             10\n",
       "Ganymede    Ganymede    search/search_index.json                    1095\n",
       "Glacier     Glacier     content/html-css                              29\n",
       "Hampton     Hampton     java-iii                                      57\n",
       "Hyperion    Hyperion    toc                                         1022\n",
       "Ike         Ike         html-css                                      12\n",
       "Joshua      Joshua      content/html-css                              19\n",
       "Jupiter     Jupiter     toc                                         1866\n",
       "Kalypso     Kalypso     javascript-i                                 631\n",
       "Kings       Kings       index.html                                    84\n",
       "Lassen      Lassen      index.html                                   877\n",
       "Luna        Luna        javascript-i                                 676\n",
       "Mammoth     Mammoth     java-i                                        19\n",
       "Marco       Marco       toc                                          910\n",
       "Neptune     Neptune     toc                                          451\n",
       "Niagara     Niagara     spring                                        65\n",
       "Oberon      Oberon      javascript-i/introduction/operators          179\n",
       "Olympic     Olympic     javascript-i                                 128\n",
       "Pinnacles   Pinnacles   javascript-i                                  69\n",
       "Quincy      Quincy      content/laravel/intro                         38\n",
       "Sequoia     Sequoia     spring                                       364\n",
       "Staff       Staff       javascript-i                                1817\n",
       "Teddy       Teddy       spring                                       744\n",
       "Ulysses     Ulysses     mkdocs/search_index.json                     721\n",
       "Voyageurs   Voyageurs   javascript-i                                 884\n",
       "Wrangell    Wrangell    toc                                          991\n",
       "Xanadu      Xanadu      javascript-i                                 722\n",
       "Yosemite    Yosemite    toc                                          697\n",
       "Zion        Zion        toc                                         1465\n",
       "Name: path, dtype: int64"
      ]
     },
     "execution_count": 156,
     "metadata": {},
     "output_type": "execute_result"
    }
   ],
   "source": [
    "curr_logs[curr_logs.path != '/'].groupby('name').path.value_counts().groupby(level=0).nlargest(1)"
   ]
  },
  {
   "cell_type": "markdown",
   "id": "7f008083",
   "metadata": {},
   "source": [
    "<div style='background-color: orange'>\n",
    "<a id='q2'></a>\n",
    "    <b><u><i><h1 style='text-align: center'>\n",
    "        Question 2\n",
    "    </h1></i></u></b>\n",
    "    <li><a href='#TableOfContents'>Table of Contents</a></li>"
   ]
  },
  {
   "cell_type": "markdown",
   "id": "80e3eaaf",
   "metadata": {},
   "source": [
    "<b><i>QUESTION 2:</i></b>  Is there a cohort that referred to a lesson significantly more than other cohorts seemed to gloss over?\n",
    "\n",
    "<b><i>ANSWER:</i></b> "
   ]
  },
  {
   "cell_type": "markdown",
   "id": "bd50ba56",
   "metadata": {},
   "source": [
    "---"
   ]
  },
  {
   "cell_type": "code",
   "execution_count": 175,
   "id": "67ef17f4",
   "metadata": {},
   "outputs": [
    {
     "data": {
      "text/plain": [
       "introduction         0.025483\n",
       "search_index.json    0.025214\n",
       "javascript-i         0.022335\n",
       "toc                  0.021528\n",
       "html-css             0.016792\n",
       "java-iii             0.016159\n",
       "java-ii              0.014925\n",
       "spring               0.014746\n",
       "functions            0.014331\n",
       "jquery               0.013649\n",
       "Name: end_path, dtype: float64"
      ]
     },
     "execution_count": 175,
     "metadata": {},
     "output_type": "execute_result"
    }
   ],
   "source": [
    "curr_logs[curr_logs.end_path != ''].end_path.value_counts(normalize=True).head(10)"
   ]
  },
  {
   "cell_type": "markdown",
   "id": "7052abe1",
   "metadata": {},
   "source": [
    "<div style='background-color: orange'>\n",
    "<a id='q3'></a>\n",
    "    <b><u><i><h1 style='text-align: center'>\n",
    "        Question 3\n",
    "    </h1></i></u></b>\n",
    "    <li><a href='#TableOfContents'>Table of Contents</a></li>"
   ]
  },
  {
   "cell_type": "markdown",
   "id": "8fa8c43c",
   "metadata": {},
   "source": [
    "<b><i>QUESTION 3:</i></b> Are there students who, when active, hardly access the curriculum? If so, what information do you have about these students?\n",
    "\n",
    "<b><i>ANSWER:</i></b> "
   ]
  },
  {
   "cell_type": "markdown",
   "id": "9c625461",
   "metadata": {},
   "source": [
    "---"
   ]
  },
  {
   "cell_type": "code",
   "execution_count": null,
   "id": "9b588c35",
   "metadata": {},
   "outputs": [],
   "source": []
  },
  {
   "cell_type": "markdown",
   "id": "5cb213a0",
   "metadata": {},
   "source": [
    "<div style='background-color: orange'>\n",
    "<a id='q4'></a>\n",
    "    <b><u><i><h1 style='text-align: center'>\n",
    "        Question 4\n",
    "    </h1></i></u></b>\n",
    "    <li><a href='#TableOfContents'>Table of Contents</a></li>"
   ]
  },
  {
   "cell_type": "markdown",
   "id": "957914ec",
   "metadata": {},
   "source": [
    "<b><i>QUESTION 4:</i></b> Is there any suspicious activity, such as users/machines/etc accessing the curriculum who shouldn’t be? Does it appear that any web-scraping is happening? Are there any suspicious IP addresses?\n",
    "\n",
    "<b><i>ANSWER:</i></b> "
   ]
  },
  {
   "cell_type": "markdown",
   "id": "c1b7bb0b",
   "metadata": {},
   "source": [
    "---"
   ]
  },
  {
   "cell_type": "code",
   "execution_count": null,
   "id": "7757510e",
   "metadata": {},
   "outputs": [],
   "source": []
  },
  {
   "cell_type": "markdown",
   "id": "fa6b99ed",
   "metadata": {},
   "source": [
    "<div style='background-color: orange'>\n",
    "<a id='q5'></a>\n",
    "    <b><u><i><h1 style='text-align: center'>\n",
    "        Question 5\n",
    "    </h1></i></u></b>\n",
    "    <li><a href='#TableOfContents'>Table of Contents</a></li>"
   ]
  },
  {
   "cell_type": "markdown",
   "id": "9ee7bc89",
   "metadata": {},
   "source": [
    "<b><i>QUESTION 5:</i></b> At some point in 2019, the ability for students and alumni to access both curriculums (web dev to ds, ds to web dev) should have been shut off. Do you see any evidence of that happening? Did it happen before?\n",
    "\n",
    "<b><i>ANSWER:</i></b> "
   ]
  },
  {
   "cell_type": "markdown",
   "id": "98a41b85",
   "metadata": {},
   "source": [
    "---"
   ]
  },
  {
   "cell_type": "code",
   "execution_count": null,
   "id": "416f6672",
   "metadata": {},
   "outputs": [],
   "source": []
  },
  {
   "cell_type": "markdown",
   "id": "2ed7f5db",
   "metadata": {},
   "source": [
    "<div style='background-color: orange'>\n",
    "<a id='q6'></a>\n",
    "    <b><u><i><h1 style='text-align: center'>\n",
    "        Question 6\n",
    "    </h1></i></u></b>\n",
    "    <li><a href='#TableOfContents'>Table of Contents</a></li>"
   ]
  },
  {
   "cell_type": "markdown",
   "id": "9a2b1af1",
   "metadata": {},
   "source": [
    "<b><i>QUESTION 6:</i></b> What topics are grads continuing to reference after graduation and into their jobs (for each program)?\n",
    "\n",
    "<b><i>ANSWER:</i></b> "
   ]
  },
  {
   "cell_type": "markdown",
   "id": "a7c5131d",
   "metadata": {},
   "source": [
    "---"
   ]
  },
  {
   "cell_type": "code",
   "execution_count": null,
   "id": "82ddffdd",
   "metadata": {},
   "outputs": [],
   "source": []
  },
  {
   "cell_type": "markdown",
   "id": "2bddbc08",
   "metadata": {},
   "source": [
    "<div style='background-color: orange'>\n",
    "<a id='q7'></a>\n",
    "    <b><u><i><h1 style='text-align: center'>\n",
    "        Question 7\n",
    "    </h1></i></u></b>\n",
    "    <li><a href='#TableOfContents'>Table of Contents</a></li>"
   ]
  },
  {
   "cell_type": "markdown",
   "id": "0e96f309",
   "metadata": {},
   "source": [
    "<b><i>QUESTION 7:</i></b> Which lessons are least accessed?\n",
    "\n",
    "<b><i>ANSWER:</i></b> "
   ]
  },
  {
   "cell_type": "markdown",
   "id": "0d1de9a6",
   "metadata": {},
   "source": [
    "---"
   ]
  },
  {
   "cell_type": "code",
   "execution_count": null,
   "id": "8aa7c333",
   "metadata": {},
   "outputs": [],
   "source": []
  },
  {
   "cell_type": "markdown",
   "id": "6b813976",
   "metadata": {},
   "source": [
    "<div style='background-color: orange'>\n",
    "<a id='q8'></a>\n",
    "    <b><u><i><h1 style='text-align: center'>\n",
    "        Question 8\n",
    "    </h1></i></u></b>\n",
    "    <li><a href='#TableOfContents'>Table of Contents</a></li>"
   ]
  },
  {
   "cell_type": "markdown",
   "id": "66c48c5d",
   "metadata": {},
   "source": [
    "<b><i>QUESTION 8:</i></b> Anything else I should be aware of?\n",
    "\n",
    "<b><i>ANSWER:</i></b> "
   ]
  },
  {
   "cell_type": "markdown",
   "id": "5ee3853c",
   "metadata": {},
   "source": [
    "---"
   ]
  },
  {
   "cell_type": "code",
   "execution_count": null,
   "id": "6ca70b08",
   "metadata": {},
   "outputs": [],
   "source": []
  },
  {
   "cell_type": "markdown",
   "id": "dade32a9",
   "metadata": {},
   "source": [
    "<div style='background-color: orange'>\n",
    "<a id='misc'></a>\n",
    "    <b><u><i><h1 style='text-align: center'>\n",
    "        Miscellaneous\n",
    "    </h1></i></u></b>\n",
    "    <li><a href='#TableOfContents'>Table of Contents</a></li>"
   ]
  },
  {
   "cell_type": "code",
   "execution_count": 152,
   "id": "e2bb5bd3",
   "metadata": {},
   "outputs": [
    {
     "name": "stdout",
     "output_type": "stream",
     "text": [
      "['cohorts', '%7Bid%7D', 'grades.csvhttp:', '', 'tools.codeup.com', 'cohorts', '26', 'grades.csv']\n"
     ]
    }
   ],
   "source": [
    "longest = []\n",
    "for val in curr_logs.path:\n",
    "    stuff = val.split('/')\n",
    "    if len(stuff) > len(longest):\n",
    "        longest = stuff\n",
    "print(longest)"
   ]
  },
  {
   "cell_type": "code",
   "execution_count": null,
   "id": "de30b4c1",
   "metadata": {},
   "outputs": [],
   "source": []
  }
 ],
 "metadata": {
  "kernelspec": {
   "display_name": "Python 3 (ipykernel)",
   "language": "python",
   "name": "python3"
  },
  "language_info": {
   "codemirror_mode": {
    "name": "ipython",
    "version": 3
   },
   "file_extension": ".py",
   "mimetype": "text/x-python",
   "name": "python",
   "nbconvert_exporter": "python",
   "pygments_lexer": "ipython3",
   "version": "3.9.13"
  }
 },
 "nbformat": 4,
 "nbformat_minor": 5
}
