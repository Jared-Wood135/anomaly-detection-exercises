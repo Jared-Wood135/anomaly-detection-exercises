{
 "cells": [
  {
   "cell_type": "markdown",
   "id": "d828a2f8",
   "metadata": {},
   "source": [
    "<div style='background-color : orange'>\n",
    "<a id='TableOfContents'></a>\n",
    "    <b><u><i><h1 style='text-align : center'>\n",
    "        Table of Contents\n",
    "    </h1></i></u></b>\n",
    "<li><a href='#imports'>Imports</a></li>\n",
    "<li><a href='#grocery'>Grocery Database</a></li>\n",
    "<li><a href='#curriculum'>Curriculum Database</a></li>\n",
    "<li><a href='#zillow'>Zillow Database</a></li>"
   ]
  },
  {
   "cell_type": "markdown",
   "id": "2b0a2348",
   "metadata": {},
   "source": [
    "<div style='background-color : orange'>\n",
    "<a id='imports'></a>\n",
    "    <b><u><i><h1 style='text-align : center'>\n",
    "        Imports\n",
    "    </h1></i></u></b>\n",
    "<li><a href='#TableOfContents'>Table of Contents</a></li>"
   ]
  },
  {
   "cell_type": "code",
   "execution_count": null,
   "id": "e9d1131b",
   "metadata": {},
   "outputs": [],
   "source": []
  },
  {
   "cell_type": "markdown",
   "id": "09a57f87",
   "metadata": {},
   "source": [
    "<div style='background-color : orange'>\n",
    "<a id='grocery'></a>\n",
    "    <b><u><i><h1 style='text-align : center'>\n",
    "        Grocery Database\n",
    "    </h1></i></u></b>\n",
    "<li><a href='#TableOfContents'>Table of Contents</a></li>"
   ]
  },
  {
   "cell_type": "markdown",
   "id": "9eca2a13",
   "metadata": {},
   "source": [
    "Use DBSCAN to detect anomalies in other products from the customers dataset. The database name is grocery_db."
   ]
  },
  {
   "cell_type": "code",
   "execution_count": null,
   "id": "ed6aa26e",
   "metadata": {},
   "outputs": [],
   "source": []
  },
  {
   "cell_type": "markdown",
   "id": "5cdb5022",
   "metadata": {},
   "source": [
    "<div style='background-color : orange'>\n",
    "<a id='curriculum'></a>\n",
    "    <b><u><i><h1 style='text-align : center'>\n",
    "        Curriculum Database\n",
    "    </h1></i></u></b>\n",
    "<li><a href='#TableOfContents'>Table of Contents</a></li>"
   ]
  },
  {
   "cell_type": "markdown",
   "id": "588786b8",
   "metadata": {},
   "source": [
    "Use DBSCAN to detect anomalies in requests from the curriculum access logs in the curriculum_logs database."
   ]
  },
  {
   "cell_type": "code",
   "execution_count": null,
   "id": "b07f639c",
   "metadata": {},
   "outputs": [],
   "source": []
  },
  {
   "cell_type": "markdown",
   "id": "3810f905",
   "metadata": {},
   "source": [
    "<div style='background-color : orange'>\n",
    "<a id='zillow'></a>\n",
    "    <b><u><i><h1 style='text-align : center'>\n",
    "        Zillow Database\n",
    "    </h1></i></u></b>\n",
    "<li><a href='#TableOfContents'>Table of Contents</a></li>"
   ]
  },
  {
   "cell_type": "markdown",
   "id": "4ada8ca9",
   "metadata": {},
   "source": [
    "Use DBSCAN to detect anomalies in number of bedrooms and finished square feet of property for the filtered dataset you used in the clustering project (single unit properties with a logerror)."
   ]
  },
  {
   "cell_type": "code",
   "execution_count": null,
   "id": "3739b976",
   "metadata": {},
   "outputs": [],
   "source": []
  }
 ],
 "metadata": {
  "kernelspec": {
   "display_name": "Python 3 (ipykernel)",
   "language": "python",
   "name": "python3"
  },
  "language_info": {
   "codemirror_mode": {
    "name": "ipython",
    "version": 3
   },
   "file_extension": ".py",
   "mimetype": "text/x-python",
   "name": "python",
   "nbconvert_exporter": "python",
   "pygments_lexer": "ipython3",
   "version": "3.9.13"
  }
 },
 "nbformat": 4,
 "nbformat_minor": 5
}
